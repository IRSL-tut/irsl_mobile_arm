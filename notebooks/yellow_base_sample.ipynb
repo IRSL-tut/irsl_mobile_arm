{
 "cells": [
  {
   "cell_type": "markdown",
   "id": "edcb8d9a-ba90-4b79-a9af-201bc9ef2bf8",
   "metadata": {},
   "source": [
    "# yellow base sample"
   ]
  },
  {
   "cell_type": "markdown",
   "id": "cf247713-3892-4d6e-9623-59ad7942e416",
   "metadata": {},
   "source": [
    "### ライブラリインポート"
   ]
  },
  {
   "cell_type": "code",
   "execution_count": 1,
   "id": "b98375ae-0b7b-4357-a378-7aa00389246d",
   "metadata": {},
   "outputs": [],
   "source": [
    "exec(open('/choreonoid_ws/install/share/irsl_choreonoid/sample/irsl_import.py').read())"
   ]
  },
  {
   "cell_type": "markdown",
   "id": "d6345e4e-cea4-4404-b49e-813b5864c75b",
   "metadata": {},
   "source": [
    "### Robot Interface作成"
   ]
  },
  {
   "cell_type": "code",
   "execution_count": 2,
   "id": "ca74793b-f9e0-419b-9228-dfc4c44c1099",
   "metadata": {},
   "outputs": [
    {
     "data": {
      "text/plain": [
       "loading model from //userdir/yellow_base_test/arm_robot3_r1.body\n",
       "mobile: {'type': 'geometry_msgs/Twist', 'topic': '/cmd_vel', 'baselink': 'base_link'}"
      ]
     },
     "execution_count": 2,
     "metadata": {},
     "output_type": "execute_result"
    }
   ],
   "source": [
    "robot_computer_ip = '133.15.97.73'\n",
    "terminal_computer_ip = '133.15.97.61'\n",
    "ri=RobotInterface('robotinterface.yaml', MASTER='http://{}:11311'.format(robot_computer_ip), IP=terminal_computer_ip, HOSTNAME=terminal_computer_ip)"
   ]
  },
  {
   "cell_type": "markdown",
   "id": "d09215c7-888b-4a7e-b24f-9a694df346d7",
   "metadata": {},
   "source": [
    "### map座標のx=0.2[m],y=0[m]に移動"
   ]
  },
  {
   "cell_type": "code",
   "execution_count": 3,
   "id": "c865224d-3693-417a-8776-fcd2e6897b78",
   "metadata": {},
   "outputs": [],
   "source": [
    "ri.move_on_map(coords=coordinates(fv(0.2,0,0)))"
   ]
  },
  {
   "cell_type": "markdown",
   "id": "8521c31d-a455-4cc1-96f6-d80702c7be47",
   "metadata": {},
   "source": [
    "### 現在位置からy方向-0.1mに移動"
   ]
  },
  {
   "cell_type": "code",
   "execution_count": 4,
   "id": "e9307112-9a22-4989-8007-cdceb030e07c",
   "metadata": {},
   "outputs": [],
   "source": [
    "ri.move_position(coords=coordinates(fv(0,-0.1,0)))"
   ]
  },
  {
   "cell_type": "markdown",
   "id": "a0176e41-e6bf-44bf-8c33-d39f97e745d1",
   "metadata": {},
   "source": [
    "### 現在位置からx方向0.1mに移動"
   ]
  },
  {
   "cell_type": "code",
   "execution_count": 5,
   "id": "910394ff-0179-482e-bfe4-49a1cce42694",
   "metadata": {},
   "outputs": [],
   "source": [
    "ri.move_position(coords=coordinates(fv(0.1,0,0)))"
   ]
  },
  {
   "cell_type": "markdown",
   "id": "bcb3779f-3281-4a9a-a163-0d01f367e55e",
   "metadata": {},
   "source": [
    "### 現在位置を取得"
   ]
  },
  {
   "cell_type": "code",
   "execution_count": 7,
   "id": "5e1469b1-7e8d-4cfc-96c5-170e429aefb7",
   "metadata": {},
   "outputs": [
    {
     "data": {
      "text/plain": [
       "<coordinates[0x5bc0a85a3780] 0.264392 -0.0856102 0 / 0 0 -0.0207342 0.999785 >"
      ]
     },
     "execution_count": 7,
     "metadata": {},
     "output_type": "execute_result"
    }
   ],
   "source": [
    "ri.currentCoordsOnMap"
   ]
  },
  {
   "cell_type": "markdown",
   "id": "2f8c6eba-c188-428e-92fc-b77a12ddda48",
   "metadata": {},
   "source": [
    "### pi/12回転のcoordinatesを計算し，その場回転"
   ]
  },
  {
   "cell_type": "code",
   "execution_count": 8,
   "id": "5cd88766-a4f8-4bf1-bd90-ff0a1804e47d",
   "metadata": {},
   "outputs": [
    {
     "data": {
      "text/plain": [
       "<coordinates[0x5bc0a4e40a00] 0 0 0 / 0 0 0.130526 0.991445 >\n",
       "\n",
       "<coordinates[0x5bc0a85a36a0] 0 0 0 / 0 0 -0.130526 0.991445 >"
      ]
     },
     "execution_count": 8,
     "metadata": {},
     "output_type": "execute_result"
    }
   ],
   "source": [
    "theta = PI/12\n",
    "coords1 = coordinates(fv(0,0,0), fv(0,0,math.sin(theta/2),math.cos(theta/2)))\n",
    "coords1\n",
    "coords2 = coordinates(fv(0,0,0), fv(0,0,math.sin(-theta/2),math.cos(-theta/2)))\n",
    "coords2"
   ]
  },
  {
   "cell_type": "code",
   "execution_count": 9,
   "id": "7a0dd961-8df1-426f-927d-19d4a20328bc",
   "metadata": {},
   "outputs": [],
   "source": [
    "ri.move_position(coords=coords1)"
   ]
  },
  {
   "cell_type": "code",
   "execution_count": 10,
   "id": "d5e28d28-1cc1-4ffc-84d0-d3d5528974ca",
   "metadata": {},
   "outputs": [
    {
     "data": {
      "text/plain": [
       "<coordinates[0x5bc0a85a3780] 0.249617 -0.0708335 0 / 0 0 0.0909656 0.995854 >"
      ]
     },
     "execution_count": 10,
     "metadata": {},
     "output_type": "execute_result"
    }
   ],
   "source": [
    "ri.currentCoordsOnMap"
   ]
  },
  {
   "cell_type": "code",
   "execution_count": 11,
   "id": "57a4f338-c00e-4b60-93c9-53c10c0580f3",
   "metadata": {},
   "outputs": [],
   "source": [
    "ri.move_position(coords=coords2)"
   ]
  },
  {
   "cell_type": "code",
   "execution_count": 12,
   "id": "60b39573-5e16-4e4b-89d4-22f0017b1ce1",
   "metadata": {},
   "outputs": [
    {
     "data": {
      "text/plain": [
       "<coordinates[0x5bc09f93a020] 0.251237 -0.0727033 0 / 0 0 -0.0209276 0.999781 >"
      ]
     },
     "execution_count": 12,
     "metadata": {},
     "output_type": "execute_result"
    }
   ],
   "source": [
    "ri.currentCoordsOnMap"
   ]
  },
  {
   "cell_type": "code",
   "execution_count": null,
   "id": "a5b6d8e9-c5e1-4ca6-b904-bbfb43413cb9",
   "metadata": {},
   "outputs": [],
   "source": []
  }
 ],
 "metadata": {
  "kernelspec": {
   "display_name": "Robot Programming",
   "language": "python",
   "name": "roboprog"
  },
  "language_info": {
   "codemirror_mode": "",
   "file_extension": ".py",
   "mimetype": "text/x-python",
   "name": "python",
   "nbconvert_exporter": "",
   "pygments_lexer": "",
   "version": "3.7"
  }
 },
 "nbformat": 4,
 "nbformat_minor": 5
}
