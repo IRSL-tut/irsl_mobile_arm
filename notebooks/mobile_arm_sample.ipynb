{
 "cells": [
  {
   "cell_type": "markdown",
   "id": "edcb8d9a-ba90-4b79-a9af-201bc9ef2bf8",
   "metadata": {},
   "source": [
    "# mobile arm sample"
   ]
  },
  {
   "cell_type": "markdown",
   "id": "cf247713-3892-4d6e-9623-59ad7942e416",
   "metadata": {},
   "source": [
    "### ライブラリインポート"
   ]
  },
  {
   "cell_type": "code",
   "execution_count": 1,
   "id": "b98375ae-0b7b-4357-a378-7aa00389246d",
   "metadata": {},
   "outputs": [],
   "source": [
    "exec(open('/choreonoid_ws/install/share/irsl_choreonoid/sample/irsl_import.py').read())"
   ]
  },
  {
   "cell_type": "markdown",
   "id": "d6345e4e-cea4-4404-b49e-813b5864c75b",
   "metadata": {},
   "source": [
    "### Robot Interface作成"
   ]
  },
  {
   "cell_type": "code",
   "execution_count": 2,
   "id": "ca74793b-f9e0-419b-9228-dfc4c44c1099",
   "metadata": {},
   "outputs": [
    {
     "data": {
      "text/plain": [
       "/irsl_ws/src/irsl_mobile_arm/model/base_arm.body\n",
       "loading model from /irsl_ws/src/irsl_mobile_arm/model/base_arm.body\n",
       "joint: [{'name': 'default', 'topic': '/arm_controller/follow_joint_trajectory', 'type': 'action', 'joint_names': ['BASE_Y', 'BASE_R', 'BASE_P', 'ELBOW_P', 'ELBOW_Y', 'WRIST_P', 'WRIST_Y']}, {'name': 'gripper', 'topic': '/gripper_controller/follow_joint_trajectory', 'type': 'action', 'joint_names': ['GRIPPER0', 'GRIPPER1']}]\n",
       "devices: [{'topic': '/joint_states', 'class': 'JointState', 'name': 'joint_state'}, {'topic': '/arm_controller/state', 'class': 'JointTrajectoryState', 'name': 'joint_trajectory_state'}]\n",
       "mobile: {'type': 'geometry_msgs/Twist', 'topic': '/cmd_vel', 'baselink': 'Root', 'base_frame': 'base_link', 'map_frame': 'map', 'move_base_action': 'move_base', 'odom_frame': 'odom', 'odom_trajectory_action': 'omni_base_controller/follow_joint_trajectory'}"
      ]
     },
     "execution_count": 2,
     "metadata": {},
     "output_type": "execute_result"
    }
   ],
   "source": [
    "ri=RobotInterface( parseURL('package://irsl_mobile_arm/config/robot_interface.arm.yaml') )"
   ]
  },
  {
   "cell_type": "markdown",
   "id": "67a8a90a-7bc5-426b-bb50-edd66ecad769",
   "metadata": {},
   "source": [
    "### ロボットモデル"
   ]
  },
  {
   "cell_type": "code",
   "execution_count": 3,
   "id": "7158b486-7bcc-4dba-9ff3-626f6ce95280",
   "metadata": {},
   "outputs": [],
   "source": [
    "robot=ri.getRobotModel()"
   ]
  },
  {
   "cell_type": "markdown",
   "id": "bca6236e-5774-4c87-8f06-d37da35c0ffa",
   "metadata": {},
   "source": [
    "### アームを動かす"
   ]
  },
  {
   "cell_type": "code",
   "execution_count": 4,
   "id": "9175dd57-49b5-4930-82cf-2018ccd3ce71",
   "metadata": {},
   "outputs": [],
   "source": [
    "robot.setArmPose()\n",
    "ri.sendAngleVector(robot.angleVector(), tm=3.0)"
   ]
  },
  {
   "cell_type": "code",
   "execution_count": 5,
   "id": "d81a088a-fac5-4d66-abf2-d0cf65bcfc99",
   "metadata": {},
   "outputs": [],
   "source": [
    "robot.setDefaultPose()\n",
    "ri.sendAngleVector(robot.angleVector(), tm=4.0)\n",
    "ri.sendAngleVector(robot.angleVector(), group='gripper', tm=3.0)"
   ]
  },
  {
   "cell_type": "code",
   "execution_count": 6,
   "id": "e0e1b3fc-6ef0-41b1-aea9-03c769cacd77",
   "metadata": {},
   "outputs": [],
   "source": [
    "robot.setZeroPose()\n",
    "ri.sendAngleVector(robot.angleVector(), tm=4.0)\n",
    "ri.sendAngleVector(robot.angleVector(), group='gripper', tm=3.0)"
   ]
  },
  {
   "cell_type": "code",
   "execution_count": null,
   "id": "6585057c-3896-4bc3-8fc3-2707eb18b600",
   "metadata": {},
   "outputs": [],
   "source": []
  }
 ],
 "metadata": {
  "kernelspec": {
   "display_name": "Choreonoid",
   "language": "python",
   "name": "choreonoid"
  },
  "language_info": {
   "codemirror_mode": "",
   "file_extension": ".py",
   "mimetype": "text/x-python",
   "name": "python",
   "nbconvert_exporter": "",
   "pygments_lexer": "ipython3",
   "version": "3.7"
  }
 },
 "nbformat": 4,
 "nbformat_minor": 5
}
