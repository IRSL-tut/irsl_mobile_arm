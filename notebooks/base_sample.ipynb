{
 "cells": [
  {
   "cell_type": "code",
   "execution_count": 1,
   "id": "399873f4-40ee-4d18-975d-3d15efa40c0f",
   "metadata": {},
   "outputs": [],
   "source": [
    "exec(open('/choreonoid_ws/install/share/irsl_choreonoid/sample/irsl_import.py').read())"
   ]
  },
  {
   "cell_type": "markdown",
   "id": "eaba52bd-a023-4e50-8358-cb0413a8a328",
   "metadata": {},
   "source": [
    "## ロボットインターフェースを作る"
   ]
  },
  {
   "cell_type": "code",
   "execution_count": 2,
   "id": "03f2fdec-2c48-4735-a809-c2227509a6a8",
   "metadata": {},
   "outputs": [
    {
     "data": {
      "text/plain": [
       "devices: []\n",
       "mobile: {'type': 'geometry_msgs/Twist', 'topic': '/cmd_vel', 'baselink': 'Root', 'base_frame': 'base_link', 'map_frame': 'map', 'move_base_action': 'move_base', 'odom_frame': 'odom', 'odom_trajectory_action': 'omni_base_controller/follow_joint_trajectory'}"
      ]
     },
     "execution_count": 2,
     "metadata": {},
     "output_type": "execute_result"
    }
   ],
   "source": [
    "ri=RobotInterface( parseURL('package://irsl_mobile_arm/config/robot_interface.yaml') )"
   ]
  },
  {
   "cell_type": "markdown",
   "id": "fdde885b-f92d-41f9-a362-5201eb41e823",
   "metadata": {},
   "source": [
    "## 地図基準の移動"
   ]
  },
  {
   "cell_type": "code",
   "execution_count": 3,
   "id": "2720af58-dea5-455a-996d-cfb1ec3a1678",
   "metadata": {},
   "outputs": [
    {
     "data": {
      "text/plain": [
       "<coordinates[0x555ef2055200] -0.554013 -0.0304411 4.05458e-11 / 1.60142e-10 -5.9692e-11 0.999995 -0.0032475 >"
      ]
     },
     "execution_count": 3,
     "metadata": {},
     "output_type": "execute_result"
    }
   ],
   "source": [
    "ri.currentCoordsOnMap"
   ]
  },
  {
   "cell_type": "code",
   "execution_count": 4,
   "id": "caa02078-5600-4e06-8736-2d5b623c011a",
   "metadata": {},
   "outputs": [],
   "source": [
    "ri.move_position(coordinates([1.0, 0, 0])) ## relative move"
   ]
  },
  {
   "cell_type": "code",
   "execution_count": 5,
   "id": "8548d7b7-58f6-4e48-8dae-b4b2555f339b",
   "metadata": {},
   "outputs": [],
   "source": [
    "ri.move_on_map(coordinates([0.5, 0.5, 0])) ## absolute coords on map "
   ]
  },
  {
   "cell_type": "markdown",
   "id": "bdf644d6-2604-4cc5-996a-de0e58b25a9e",
   "metadata": {},
   "source": [
    "## オドメトリ基準の移動"
   ]
  },
  {
   "cell_type": "code",
   "execution_count": 4,
   "id": "6523a605-c0da-4c67-a8b1-ac4c4b97f197",
   "metadata": {},
   "outputs": [],
   "source": [
    "ri.currentCoordsOnOdom"
   ]
  },
  {
   "cell_type": "code",
   "execution_count": null,
   "id": "26c9fbf9-bfe1-44cb-9f5f-a697b31dce71",
   "metadata": {},
   "outputs": [],
   "source": [
    "ri.move_trajectory([ (coordinates.init2D(0., 0., 0.), 5.0) ])"
   ]
  },
  {
   "cell_type": "code",
   "execution_count": null,
   "id": "f1ad8926-764e-4191-8e87-771a59224f5c",
   "metadata": {},
   "outputs": [],
   "source": [
    "ri.move_trajectory([ (coordinates.init2D(1.0, 0, PI), 10.0), (coordinates.init2D(1.0, 1.0, PI), 20.0) ])"
   ]
  },
  {
   "cell_type": "code",
   "execution_count": null,
   "id": "ab2e57b9-809c-41ef-a0cc-345bee23565d",
   "metadata": {},
   "outputs": [],
   "source": [
    "ri.currentCoordsOnOdom"
   ]
  }
 ],
 "metadata": {
  "kernelspec": {
   "display_name": "Assembler",
   "language": "python",
   "name": "assembler"
  },
  "language_info": {
   "codemirror_mode": "",
   "file_extension": ".py",
   "mimetype": "text/x-python",
   "name": "python",
   "nbconvert_exporter": "",
   "pygments_lexer": "ipython3",
   "version": "3.7"
  }
 },
 "nbformat": 4,
 "nbformat_minor": 5
}
